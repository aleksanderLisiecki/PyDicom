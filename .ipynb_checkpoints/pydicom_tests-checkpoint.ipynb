{
 "cells": [
  {
   "cell_type": "code",
   "execution_count": 1,
   "metadata": {},
   "outputs": [
    {
     "name": "stdout",
     "output_type": "stream",
     "text": [
      "Requirement already satisfied: pydicom in c:\\users\\alili\\anaconda3\\lib\\site-packages (2.2.2)\n",
      "Requirement already satisfied: dicomweb_client in c:\\users\\alili\\anaconda3\\lib\\site-packages (0.54.4)\n",
      "Requirement already satisfied: retrying>=1.3.3 in c:\\users\\alili\\anaconda3\\lib\\site-packages (from dicomweb_client) (1.3.3)\n",
      "Requirement already satisfied: Pillow>=8.3 in c:\\users\\alili\\anaconda3\\lib\\site-packages (from dicomweb_client) (9.0.1)\n",
      "Requirement already satisfied: pydicom>=2.2 in c:\\users\\alili\\anaconda3\\lib\\site-packages (from dicomweb_client) (2.2.2)\n",
      "Requirement already satisfied: numpy>=1.19 in c:\\users\\alili\\anaconda3\\lib\\site-packages (from dicomweb_client) (1.21.5)\n",
      "Requirement already satisfied: requests>=2.18 in c:\\users\\alili\\anaconda3\\lib\\site-packages (from dicomweb_client) (2.24.0)\n",
      "Requirement already satisfied: six>=1.7.0 in c:\\users\\alili\\anaconda3\\lib\\site-packages (from retrying>=1.3.3->dicomweb_client) (1.15.0)\n",
      "Requirement already satisfied: idna<3,>=2.5 in c:\\users\\alili\\anaconda3\\lib\\site-packages (from requests>=2.18->dicomweb_client) (2.10)\n",
      "Requirement already satisfied: chardet<4,>=3.0.2 in c:\\users\\alili\\anaconda3\\lib\\site-packages (from requests>=2.18->dicomweb_client) (3.0.4)\n",
      "Requirement already satisfied: urllib3!=1.25.0,!=1.25.1,<1.26,>=1.21.1 in c:\\users\\alili\\anaconda3\\lib\\site-packages (from requests>=2.18->dicomweb_client) (1.25.11)\n",
      "Requirement already satisfied: certifi>=2017.4.17 in c:\\users\\alili\\anaconda3\\lib\\site-packages (from requests>=2.18->dicomweb_client) (2020.6.20)\n"
     ]
    }
   ],
   "source": [
    "!pip install pydicom\n",
    "!pip install dicomweb_client\n"
   ]
  },
  {
   "cell_type": "code",
   "execution_count": 1,
   "metadata": {},
   "outputs": [],
   "source": [
    "from dicomweb_client.api import DICOMwebClient\n",
    "import pydicom\n",
    "import os\n",
    "\n",
    "url = 'http://localhost:8080/dcm4chee-arc/aets/DCM4CHEE/rs'\n",
    "\n",
    "client = DICOMwebClient(url)"
   ]
  },
  {
   "cell_type": "code",
   "execution_count": 2,
   "metadata": {},
   "outputs": [
    {
     "ename": "NotADirectoryError",
     "evalue": "[WinError 267] Nazwa katalogu jest nieprawidłowa: b'D:/medical-images-examples/Projekt/IM-0015-0001.dcm'",
     "output_type": "error",
     "traceback": [
      "\u001b[1;31m---------------------------------------------------------------------------\u001b[0m",
      "\u001b[1;31mNotADirectoryError\u001b[0m                        Traceback (most recent call last)",
      "\u001b[1;32m<ipython-input-2-490702042885>\u001b[0m in \u001b[0;36m<module>\u001b[1;34m\u001b[0m\n\u001b[0;32m      6\u001b[0m \u001b[0mdataset\u001b[0m \u001b[1;33m=\u001b[0m \u001b[1;33m[\u001b[0m\u001b[1;33m]\u001b[0m\u001b[1;33m\u001b[0m\u001b[1;33m\u001b[0m\u001b[0m\n\u001b[0;32m      7\u001b[0m \u001b[1;33m\u001b[0m\u001b[0m\n\u001b[1;32m----> 8\u001b[1;33m \u001b[1;32mfor\u001b[0m \u001b[0mfile\u001b[0m \u001b[1;32min\u001b[0m \u001b[0mos\u001b[0m\u001b[1;33m.\u001b[0m\u001b[0mlistdir\u001b[0m\u001b[1;33m(\u001b[0m\u001b[0mdirectory\u001b[0m\u001b[1;33m)\u001b[0m\u001b[1;33m:\u001b[0m\u001b[1;33m\u001b[0m\u001b[1;33m\u001b[0m\u001b[0m\n\u001b[0m\u001b[0;32m      9\u001b[0m     \u001b[0mfilename\u001b[0m \u001b[1;33m=\u001b[0m \u001b[0mos\u001b[0m\u001b[1;33m.\u001b[0m\u001b[0mfsdecode\u001b[0m\u001b[1;33m(\u001b[0m\u001b[0mfile\u001b[0m\u001b[1;33m)\u001b[0m\u001b[1;33m\u001b[0m\u001b[1;33m\u001b[0m\u001b[0m\n\u001b[0;32m     10\u001b[0m     \u001b[0mprint\u001b[0m\u001b[1;33m(\u001b[0m\u001b[0mfilename\u001b[0m\u001b[1;33m)\u001b[0m\u001b[1;33m\u001b[0m\u001b[1;33m\u001b[0m\u001b[0m\n",
      "\u001b[1;31mNotADirectoryError\u001b[0m: [WinError 267] Nazwa katalogu jest nieprawidłowa: b'D:/medical-images-examples/Projekt/IM-0015-0001.dcm'"
     ]
    }
   ],
   "source": [
    "# dicom_dir = 'D:/medical-images-examples/Projekt/Tomografia komputerowa/Chest - 1919/0625mmCHST_4'\n",
    "dicom_dir = 'D:/medical-images-examples/Projekt/IM-0015-0001.dcm'\n",
    "\n",
    "directory = os.fsencode(dicom_dir)\n",
    "\n",
    "dataset = []\n",
    "\n",
    "for file in os.listdir(directory):\n",
    "    filename = os.fsdecode(file)\n",
    "    if !filename.endswith('.dcm'): \n",
    "        continue\n",
    "    print(filename)\n",
    "    \n",
    "#     dataset.append(pydicom.dcmread(dicom_dir + '\\\\' + filename))\n",
    "    dataset = [pydicom.dcmread(dicom_dir + '\\\\' + filename)]\n",
    "    client.store_instances(datasets=dataset)"
   ]
  },
  {
   "cell_type": "code",
   "execution_count": 8,
   "metadata": {
    "collapsed": true
   },
   "outputs": [
    {
     "data": {
      "text/plain": [
       "[{'00080005': {'vr': 'CS', 'Value': ['ISO_IR 100']},\n",
       "  '00080020': {'vr': 'DA', 'Value': ['20201120']},\n",
       "  '00080030': {'vr': 'TM', 'Value': ['142844']},\n",
       "  '00080050': {'vr': 'SH'},\n",
       "  '00080054': {'vr': 'AE', 'Value': ['DCM4CHEE']},\n",
       "  '00080056': {'vr': 'CS', 'Value': ['ONLINE']},\n",
       "  '00080061': {'vr': 'CS', 'Value': ['CT']},\n",
       "  '00080090': {'vr': 'PN'},\n",
       "  '00080201': {'vr': 'SH'},\n",
       "  '00081190': {'vr': 'UR',\n",
       "   'Value': ['http://localhost/dcm4chee-arc/aets/DCM4CHEE/rs/studies/1.2.840.113619.2.428.3.269144191.566.1605854192.658']},\n",
       "  '00100010': {'vr': 'PN', 'Value': [{'Alphabetic': 'Test Monkiewicz'}]},\n",
       "  '00100020': {'vr': 'LO', 'Value': ['Test Monkiewicz']},\n",
       "  '00100030': {'vr': 'DA'},\n",
       "  '00100040': {'vr': 'CS'},\n",
       "  '0020000D': {'vr': 'UI',\n",
       "   'Value': ['1.2.840.113619.2.428.3.269144191.566.1605854192.658']},\n",
       "  '00200010': {'vr': 'SH', 'Value': ['1919']},\n",
       "  '00201206': {'vr': 'IS', 'Value': ['1']},\n",
       "  '00201208': {'vr': 'IS', 'Value': ['517']}}]"
      ]
     },
     "execution_count": 8,
     "metadata": {},
     "output_type": "execute_result"
    }
   ],
   "source": [
    "client.search_for_studies()"
   ]
  },
  {
   "cell_type": "code",
   "execution_count": 13,
   "metadata": {
    "collapsed": true
   },
   "outputs": [
    {
     "data": {
      "text/plain": [
       "array([-256, -256, -256, -256, -256, -256, -256, -256, -256, -256, -256,\n",
       "       -256, -256, -256, -256, -256, -256, -256, -256, -256, -256, -256,\n",
       "       -256, -256, -256, -256, -256, -256, -256, -256, -256, -256, -256,\n",
       "       -256, -256, -256, -256, -256, -256, -256, -256, -256, -256, -256,\n",
       "       -256, -256, -256, -256, -256, -256, -256, -256, -256, -256, -256,\n",
       "       -256, -256, -256, -256, -256, -256, -256, -256, -256, -256, -256,\n",
       "       -256, -256, -256, -256, -256, -256, -256, -256, -256, -256, -256,\n",
       "       -256, -256, -256, -256, -256, -256, -256, -256, -256, -256, -256,\n",
       "       -256, -256, -256, -256, -256, -256, -256, -256, -256, -256, -256,\n",
       "       -256, -256, -256, -256, -256, -256, -256, -256, -256, -256, -256,\n",
       "       -256, -256, -256, -256, -256, -256, -256, -256, -256, -256, -256,\n",
       "       -256, -256, -256, -256, -256, -256, -256, -256, -256, -256, -256,\n",
       "       -256, -256, -256, -256, -256, -256, -256, -256, -256, -256, -256,\n",
       "       -256, -256, -256, -256, -256, -256, -256, -256, -256, -256, -256,\n",
       "       -256, -256, -256, -256, -256, -256, -256, -256, -256, -256, -256,\n",
       "       -256, -256, -256, -256, -256, -256, -256, -256, -256, -256, -256,\n",
       "       -256, -256, -256, -256, -256, -256, -256, -256, -256, -256, -256,\n",
       "       -256, -256, -256, -256, -256, -256, -256, -256, -256, -256, -256,\n",
       "       -256, -256, -256, -256, -256, -256, -256, -256, -256, -256, -256,\n",
       "       -256, -256, -256, -256, -256, -256, -256, -256, -256, -256, -256,\n",
       "       -256, -256, -256, -256, -256, -256, -256, -256, -256, -256, -256,\n",
       "       -256, -256, -256, -256, -256, -256, -256, -256, -256, -256, -256,\n",
       "       -256, -256, -256, -256, -256, -256, -256, -256, -256, -256, -256,\n",
       "       -256, -256, -256], dtype=int16)"
      ]
     },
     "execution_count": 13,
     "metadata": {},
     "output_type": "execute_result"
    }
   ],
   "source": [
    "dicom_dir = 'D:\\medical-images-examples\\Projekt\\Rezonans Magnetyczny\\Monkiewicz_Michal\\Mr_Mozgu_I_Pnia_Mozgu_Bez - 429748\\Apparent_Diffusion_Coefficient_(mm2s)_900\\IM-0015-0001.dcm'\n",
    "\n",
    "ds = pydicom.dcmread(dicom_dir)"
   ]
  },
  {
   "cell_type": "code",
   "execution_count": 45,
   "metadata": {},
   "outputs": [
    {
     "name": "stdout",
     "output_type": "stream",
     "text": [
      "Requirement already satisfied: ffmpeg in c:\\users\\alili\\anaconda3\\lib\\site-packages (1.4)\n"
     ]
    },
    {
     "data": {
      "text/plain": [
       "<matplotlib.image.AxesImage at 0x28313bce9d0>"
      ]
     },
     "execution_count": 45,
     "metadata": {},
     "output_type": "execute_result"
    },
    {
     "data": {
      "image/png": "[encoded data removed]",
      "text/plain": [
       "<Figure size 432x288 with 1 Axes>"
      ]
     },
     "metadata": {
      "needs_background": "light"
     },
     "output_type": "display_data"
    }
   ],
   "source": [
    "import numpy as np\n",
    "from matplotlib.animation import FuncAnimation\n",
    "from IPython import display\n",
    "import matplotlib.pyplot as plt\n",
    "\n",
    "plt.imshow(ds.pixel_array, cmap=plt.cm.bone) "
   ]
  },
  {
   "cell_type": "code",
   "execution_count": 36,
   "metadata": {},
   "outputs": [],
   "source": [
    "dicom_dir = 'D:\\medical-images-examples\\Projekt\\Rezonans Magnetyczny\\Monkiewicz_Michal\\Mr_Mozgu_I_Pnia_Mozgu_Bez - 429748\\Apparent_Diffusion_Coefficient_(mm2s)_900'\n",
    "\n",
    "directory = os.fsencode(dicom_dir)\n",
    "    \n",
    "\n",
    "def AnimationFunction(frame):\n",
    "\n",
    "    filename = os.fsdecode(os.listdir(directory)[frame])\n",
    "    dataset = pydicom.dcmread(dicom_dir + '\\\\' + filename)\n",
    "\n",
    "    return plt.plot(dataset.pixel_array, cmap=plt.cm.bone) "
   ]
  },
  {
   "cell_type": "code",
   "execution_count": 37,
   "metadata": {},
   "outputs": [
    {
     "data": {
      "text/plain": [
       "'IM-0015-0001.dcm'"
      ]
     },
     "execution_count": 37,
     "metadata": {},
     "output_type": "execute_result"
    }
   ],
   "source": [
    "dicom_dir = 'D:\\medical-images-examples\\Projekt\\Rezonans Magnetyczny\\Monkiewicz_Michal\\Mr_Mozgu_I_Pnia_Mozgu_Bez - 429748\\Apparent_Diffusion_Coefficient_(mm2s)_900'\n",
    "\n",
    "directory = os.fsencode(dicom_dir)\n",
    "\n",
    "os.fsdecode(os.listdir(directory)[0])\n"
   ]
  },
  {
   "cell_type": "code",
   "execution_count": 44,
   "metadata": {},
   "outputs": [
    {
     "data": {
      "text/plain": [
       "<Figure size 432x288 with 0 Axes>"
      ]
     },
     "metadata": {},
     "output_type": "display_data"
    }
   ],
   "source": [
    "\n",
    "anim_created = FuncAnimation(plt.figure(), AnimationFunction, frames=29, interval=100)\n",
    "\n",
    "\n",
    "plt.show()"
   ]
  }
 ],
 "metadata": {
  "kernelspec": {
   "display_name": "Python 3",
   "language": "python",
   "name": "python3"
  },
  "language_info": {
   "codemirror_mode": {
    "name": "ipython",
    "version": 3
   },
   "file_extension": ".py",
   "mimetype": "text/x-python",
   "name": "python",
   "nbconvert_exporter": "python",
   "pygments_lexer": "ipython3",
   "version": "3.8.5"
  }
 },
 "nbformat": 4,
 "nbformat_minor": 4
}

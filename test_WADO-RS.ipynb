{
 "cells": [
  {
   "cell_type": "code",
   "execution_count": 12,
   "metadata": {},
   "outputs": [],
   "source": [
    "# !pip install pydicom\n",
    "# !pip install dicomweb_client\n",
    "# !pip install tqdm"
   ]
  },
  {
   "cell_type": "code",
   "execution_count": 2,
   "metadata": {},
   "outputs": [],
   "source": [
    "from dicomweb_client.api import DICOMwebClient\n",
    "import pydicom\n",
    "import os\n",
    "import time\n",
    "import datetime\n",
    "from tqdm import tqdm\n",
    "import csv\n",
    "import random\n",
    "\n",
    "url = 'http://localhost:8080/dcm4chee-arc/aets/DCM4CHEE/rs'\n",
    "\n",
    "client = DICOMwebClient(url)"
   ]
  },
  {
   "cell_type": "markdown",
   "metadata": {},
   "source": [
    "Funkcja obliczania długości odczytywania plików z bazy:"
   ]
  },
  {
   "cell_type": "code",
   "execution_count": 11,
   "metadata": {},
   "outputs": [
    {
     "name": "stderr",
     "output_type": "stream",
     "text": [
      "empty response\n",
      "empty response\n",
      "empty response\n",
      "empty response\n",
      "empty response\n",
      "empty response\n",
      "empty response\n",
      "empty response\n",
      "empty response\n",
      "empty response\n",
      "empty response\n",
      "empty response\n",
      "empty response\n",
      "empty response\n",
      "empty response\n",
      "empty response\n",
      "empty response\n",
      "empty response\n",
      "empty response\n",
      "empty response\n",
      "empty response\n",
      "empty response\n"
     ]
    },
    {
     "name": "stdout",
     "output_type": "stream",
     "text": [
      "97482\n",
      "92283\n",
      "12959\n",
      "51146\n",
      "39929\n",
      "13594\n",
      "97541\n",
      "64682\n",
      "83353\n",
      "58944\n",
      "97052\n",
      "2025\n",
      "45250\n",
      "23153\n",
      "78806\n",
      "26263\n",
      "40757\n",
      "87140\n",
      "60591\n",
      "23807\n",
      "88454\n"
     ]
    },
    {
     "name": "stderr",
     "output_type": "stream",
     "text": [
      "empty response\n",
      "empty response\n",
      "empty response\n",
      "empty response\n",
      "empty response\n",
      "empty response\n",
      "empty response\n",
      "empty response\n",
      "empty response\n",
      "empty response\n",
      "empty response\n",
      "empty response\n",
      "empty response\n",
      "empty response\n",
      "empty response\n",
      "empty response\n",
      "empty response\n",
      "empty response\n",
      "empty response\n",
      "empty response\n",
      "empty response\n",
      "empty response\n"
     ]
    },
    {
     "name": "stdout",
     "output_type": "stream",
     "text": [
      "90955\n",
      "78345\n",
      "66194\n",
      "43095\n",
      "66121\n",
      "33067\n",
      "43654\n",
      "51146\n",
      "52143\n",
      "63342\n",
      "57770\n",
      "81993\n",
      "85142\n",
      "16706\n",
      "25039\n",
      "64355\n",
      "84686\n",
      "27591\n",
      "15440\n",
      "52032\n",
      "97942\n"
     ]
    },
    {
     "name": "stderr",
     "output_type": "stream",
     "text": [
      "empty response\n",
      "empty response\n",
      "empty response\n",
      "empty response\n",
      "empty response\n",
      "empty response\n",
      "empty response\n",
      "empty response\n",
      "empty response\n",
      "empty response\n",
      "empty response\n",
      "empty response\n",
      "empty response\n",
      "empty response\n",
      "empty response\n",
      "empty response\n",
      "empty response\n",
      "empty response\n",
      "empty response\n"
     ]
    },
    {
     "name": "stdout",
     "output_type": "stream",
     "text": [
      "98488\n",
      "33816\n",
      "74029\n",
      "74440\n",
      "58696\n",
      "84762\n",
      "53877\n",
      "74559\n",
      "83566\n",
      "79901\n",
      "38286\n",
      "66532\n",
      "73712\n",
      "21530\n",
      "63153\n",
      "52635\n",
      "49033\n",
      "93770\n",
      "77626\n"
     ]
    },
    {
     "name": "stderr",
     "output_type": "stream",
     "text": [
      "empty response\n",
      "empty response\n",
      "empty response\n",
      "empty response\n",
      "empty response\n",
      "empty response\n",
      "empty response\n",
      "empty response\n",
      "empty response\n",
      "empty response\n",
      "empty response\n",
      "empty response\n",
      "empty response\n",
      "empty response\n",
      "empty response\n",
      "empty response\n",
      "empty response\n",
      "empty response\n",
      "empty response\n",
      "empty response\n",
      "empty response\n",
      "empty response\n"
     ]
    },
    {
     "name": "stdout",
     "output_type": "stream",
     "text": [
      "60823\n",
      "41310\n",
      "31687\n",
      "83533\n",
      "85484\n",
      "21074\n",
      "65468\n",
      "12104\n",
      "93078\n",
      "8522\n",
      "22238\n",
      "951\n",
      "95609\n",
      "57326\n",
      "6211\n",
      "25555\n",
      "91953\n",
      "95191\n",
      "74961\n",
      "1039\n",
      "54833\n",
      "3798\n"
     ]
    },
    {
     "name": "stderr",
     "output_type": "stream",
     "text": [
      "empty response\n",
      "empty response\n",
      "empty response\n",
      "empty response\n",
      "empty response\n",
      "empty response\n",
      "empty response\n",
      "empty response\n",
      "empty response\n",
      "empty response\n",
      "empty response\n",
      "empty response\n",
      "empty response\n",
      "empty response\n",
      "empty response\n",
      "empty response\n",
      "empty response\n"
     ]
    },
    {
     "name": "stdout",
     "output_type": "stream",
     "text": [
      "94426\n",
      "66821\n",
      "44230\n",
      "83400\n",
      "42433\n",
      "9996\n",
      "59059\n",
      "16786\n",
      "85915\n",
      "12821\n",
      "97196\n",
      "90025\n",
      "69344\n",
      "10011\n",
      "92084\n",
      "49752\n",
      "36704\n",
      "Patient UDI: 100000; average search time: 0.00931218385696411\n"
     ]
    },
    {
     "data": {
      "text/plain": [
       "0.00931218385696411"
      ]
     },
     "execution_count": 11,
     "metadata": {},
     "output_type": "execute_result"
    }
   ],
   "source": [
    "sample_size = 100\n",
    "def get_average_read_time(patient_UID):\n",
    "    # warmup reads (for the first time search time is larger for some reason - idk why)\n",
    "    client.search_for_studies(search_filters={'PatientID': str(patient_UID)})\n",
    "    client.search_for_studies(search_filters={'PatientID': str(patient_UID)})\n",
    "    \n",
    "    samples = []\n",
    "    for i in range(sample_size):\n",
    "        samples.append(random.randint(0, patient_UID))\n",
    "    \n",
    "    start_time = time.time()\n",
    "    \n",
    "    for sample in samples:\n",
    "        print(sample)\n",
    "        client.search_for_studies(search_filters={'PatientID': str(sample)})\n",
    "    \n",
    "    search_time = (time.time() - start_time) / sample_size\n",
    "    \n",
    "    print(\"Patient UDI: \" + str(patient_UID) + \"; average search time: \" + str(search_time) )\n",
    "    return search_time\n",
    "\n",
    "get_average_read_time(100000)"
   ]
  },
  {
   "cell_type": "markdown",
   "metadata": {},
   "source": [
    "Przygotowanie pliku z logami:"
   ]
  },
  {
   "cell_type": "code",
   "execution_count": 3,
   "metadata": {},
   "outputs": [
    {
     "name": "stdout",
     "output_type": "stream",
     "text": [
      "logs path: log/uploading_dicom_to_pacs_logs-20220524-225458.csv\n"
     ]
    }
   ],
   "source": [
    "path = \"log/uploading_dicom_to_pacs_logs-\" + str(time.strftime(\"%Y%m%d-%H%M%S\")) + \".csv\"\n",
    "print(\"logs path: \" + path)\n",
    "header = ['timestamp', 'number_of_images', 'last_1k_dicoms_uploadtime', 'experiment_time', 'pacs_read_time']\n",
    "\n",
    "with open(path, 'w', encoding='UTF8', newline='') as f:\n",
    "    writer = csv.writer(f)\n",
    "    writer.writerow(header)"
   ]
  },
  {
   "cell_type": "markdown",
   "metadata": {},
   "source": [
    "Funkcja wgrywania paczki dicomów do pacsa:"
   ]
  },
  {
   "cell_type": "code",
   "execution_count": 4,
   "metadata": {},
   "outputs": [],
   "source": [
    "def upload_1k_dicoms_into_pacs(images_prefix):\n",
    "    start_time = time.time()\n",
    "    \n",
    "    for i in range(1000):\n",
    "        uid = str(images_prefix) + str(i)\n",
    "        \n",
    "        dicom.SeriesInstanceUID = uid\n",
    "        dicom.StudyInstanceUID = uid\n",
    "        dicom.FrameOfReferenceUID = uid\n",
    "        dicom.SOPInstanceUID = uid\n",
    "        dicom.PatientID = uid\n",
    "        client.store_instances(datasets=[dicom])\n",
    "    \n",
    "    return( time.time() - start_time )   "
   ]
  },
  {
   "cell_type": "markdown",
   "metadata": {},
   "source": [
    "### Zapełnianie bazy dicomami:"
   ]
  },
  {
   "cell_type": "markdown",
   "metadata": {},
   "source": [
    "Przygotowanie dicoma:"
   ]
  },
  {
   "cell_type": "code",
   "execution_count": 5,
   "metadata": {},
   "outputs": [],
   "source": [
    "dicom = pydicom.dcmread('test_images/IM-0014-0001.dcm')\n",
    "dicom.PixelData = bytes()"
   ]
  },
  {
   "cell_type": "markdown",
   "metadata": {},
   "source": [
    "Pętla wgrywania:"
   ]
  },
  {
   "cell_type": "code",
   "execution_count": null,
   "metadata": {},
   "outputs": [
    {
     "name": "stderr",
     "output_type": "stream",
     "text": [
      " 84%|███████████████████████████████████████████████████████████████▋            | 629/750 [9:11:46<1:46:21, 52.74s/it]"
     ]
    }
   ],
   "source": [
    "uid_prefix = dicom.SeriesInstanceUID + '.'\n",
    "\n",
    "experiment_start_time = time.time()\n",
    "\n",
    "for i in tqdm(range(250,1000)):\n",
    "    upload_time = upload_1k_dicoms_into_pacs(uid_prefix + str(i))\n",
    "    \n",
    "#     timestamp = datetime.datetime.now()\n",
    "#     number_of_images = i*1000\n",
    "#     last_1k_dicoms_uploadtime = upload_time\n",
    "#     experiment_time = time.time() - experiment_start_time\n",
    "#     pacs_read_time = get_average_read_time(number_of_images)\n",
    "    \n",
    "#     data = [str(timestamp), str(number_of_images), str(last_1k_dicoms_uploadtime), str(experiment_time), str(pacs_read_time)]\n",
    "    \n",
    "#     with open(path, 'a', encoding='UTF8', newline='') as f:\n",
    "#         csv.writer(f).writerow(data)\n",
    "    "
   ]
  }
 ],
 "metadata": {
  "kernelspec": {
   "display_name": "Python 3",
   "language": "python",
   "name": "python3"
  },
  "language_info": {
   "codemirror_mode": {
    "name": "ipython",
    "version": 3
   },
   "file_extension": ".py",
   "mimetype": "text/x-python",
   "name": "python",
   "nbconvert_exporter": "python",
   "pygments_lexer": "ipython3",
   "version": "3.8.5"
  }
 },
 "nbformat": 4,
 "nbformat_minor": 4
}

{
 "cells": [
  {
   "cell_type": "code",
   "execution_count": 12,
   "metadata": {},
   "outputs": [],
   "source": [
    "# !pip install pydicom\n",
    "# !pip install dicomweb_client\n",
    "# !pip install tqdm"
   ]
  },
  {
   "cell_type": "code",
   "execution_count": 1,
   "metadata": {},
   "outputs": [],
   "source": [
    "from dicomweb_client.api import DICOMwebClient\n",
    "import pydicom\n",
    "import os\n",
    "import time\n",
    "import datetime\n",
    "from tqdm import tqdm\n",
    "import csv\n",
    "import random\n",
    "\n",
    "url = 'http://localhost:8080/dcm4chee-arc/aets/DCM4CHEE/rs'\n",
    "\n",
    "client = DICOMwebClient(url)"
   ]
  },
  {
   "cell_type": "markdown",
   "metadata": {},
   "source": [
    "Funkcja obliczania długości odczytywania plików z bazy:"
   ]
  },
  {
   "cell_type": "code",
   "execution_count": 23,
   "metadata": {},
   "outputs": [
    {
     "name": "stderr",
     "output_type": "stream",
     "text": [
      "empty response\n",
      "empty response\n",
      "empty response\n",
      "empty response\n",
      "empty response\n",
      "empty response\n",
      "empty response\n",
      "empty response\n",
      "empty response\n",
      "empty response\n",
      "empty response\n",
      "empty response\n",
      "empty response\n",
      "empty response\n",
      "empty response\n",
      "empty response\n",
      "empty response\n",
      "empty response\n",
      "empty response\n",
      "empty response\n",
      "empty response\n"
     ]
    },
    {
     "name": "stdout",
     "output_type": "stream",
     "text": [
      "50269\n",
      "83960\n",
      "21290\n",
      "5245\n",
      "98955\n",
      "44588\n",
      "90112\n",
      "71891\n",
      "99164\n",
      "95629\n",
      "92002\n",
      "22587\n",
      "57101\n",
      "21617\n",
      "99104\n",
      "87681\n",
      "95971\n",
      "43617\n",
      "82354\n",
      "9256\n"
     ]
    },
    {
     "name": "stderr",
     "output_type": "stream",
     "text": [
      "empty response\n",
      "empty response\n",
      "empty response\n",
      "empty response\n",
      "empty response\n",
      "empty response\n",
      "empty response\n",
      "empty response\n",
      "empty response\n",
      "empty response\n",
      "empty response\n",
      "empty response\n",
      "empty response\n",
      "empty response\n",
      "empty response\n",
      "empty response\n",
      "empty response\n",
      "empty response\n",
      "empty response\n",
      "empty response\n",
      "empty response\n",
      "empty response\n",
      "empty response\n"
     ]
    },
    {
     "name": "stdout",
     "output_type": "stream",
     "text": [
      "63010\n",
      "97264\n",
      "860\n",
      "62956\n",
      "61480\n",
      "64026\n",
      "75949\n",
      "97318\n",
      "95106\n",
      "11690\n",
      "53864\n",
      "85448\n",
      "78559\n",
      "15014\n",
      "10243\n",
      "57278\n",
      "92882\n",
      "15967\n",
      "59739\n",
      "68897\n",
      "22301\n",
      "83108\n"
     ]
    },
    {
     "name": "stderr",
     "output_type": "stream",
     "text": [
      "empty response\n",
      "empty response\n",
      "empty response\n",
      "empty response\n",
      "empty response\n",
      "empty response\n",
      "empty response\n",
      "empty response\n",
      "empty response\n",
      "empty response\n",
      "empty response\n",
      "empty response\n",
      "empty response\n",
      "empty response\n",
      "empty response\n",
      "empty response\n",
      "empty response\n",
      "empty response\n",
      "empty response\n",
      "empty response\n",
      "empty response\n",
      "empty response\n"
     ]
    },
    {
     "name": "stdout",
     "output_type": "stream",
     "text": [
      "88319\n",
      "91353\n",
      "48873\n",
      "27025\n",
      "97587\n",
      "20311\n",
      "21069\n",
      "4792\n",
      "47061\n",
      "35290\n",
      "70260\n",
      "54089\n",
      "75916\n",
      "39351\n",
      "61296\n",
      "44311\n",
      "76666\n",
      "10726\n",
      "29784\n",
      "22184\n",
      "78275\n",
      "16439\n",
      "9915\n"
     ]
    },
    {
     "name": "stderr",
     "output_type": "stream",
     "text": [
      "empty response\n",
      "empty response\n",
      "empty response\n",
      "empty response\n",
      "empty response\n",
      "empty response\n",
      "empty response\n",
      "empty response\n",
      "empty response\n",
      "empty response\n",
      "empty response\n",
      "empty response\n",
      "empty response\n",
      "empty response\n",
      "empty response\n",
      "empty response\n",
      "empty response\n",
      "empty response\n",
      "empty response\n",
      "empty response\n"
     ]
    },
    {
     "name": "stdout",
     "output_type": "stream",
     "text": [
      "27998\n",
      "22737\n",
      "1589\n",
      "81282\n",
      "50617\n",
      "57235\n",
      "42581\n",
      "21822\n",
      "50026\n",
      "966\n",
      "64152\n",
      "34930\n",
      "88322\n",
      "97897\n",
      "8991\n",
      "2067\n",
      "41291\n",
      "76608\n",
      "88528\n",
      "37322\n"
     ]
    },
    {
     "name": "stderr",
     "output_type": "stream",
     "text": [
      "empty response\n",
      "empty response\n",
      "empty response\n",
      "empty response\n",
      "empty response\n",
      "empty response\n",
      "empty response\n",
      "empty response\n",
      "empty response\n",
      "empty response\n",
      "empty response\n",
      "empty response\n",
      "empty response\n",
      "empty response\n",
      "empty response\n",
      "empty response\n"
     ]
    },
    {
     "name": "stdout",
     "output_type": "stream",
     "text": [
      "59103\n",
      "2556\n",
      "85891\n",
      "51565\n",
      "243\n",
      "82171\n",
      "55435\n",
      "22881\n",
      "94270\n",
      "11565\n",
      "65966\n",
      "28320\n",
      "89371\n",
      "43860\n",
      "66677\n",
      "Patient UDI: 100000; average search time: 0.008646788597106934\n"
     ]
    },
    {
     "data": {
      "text/plain": [
       "0.008646788597106934"
      ]
     },
     "execution_count": 23,
     "metadata": {},
     "output_type": "execute_result"
    }
   ],
   "source": [
    "sample_size = 100\n",
    "def get_average_read_time(patient_UID):\n",
    "    # warmup reads (for the first time search time is larger for some reason - idk why)\n",
    "    client.search_for_studies(search_filters={'PatientID': str(patient_UID)})\n",
    "    client.search_for_studies(search_filters={'PatientID': str(patient_UID)})\n",
    "    \n",
    "    samples = []\n",
    "    for i in range(sample_size):\n",
    "        samples.append(random.randint(0, patient_UID))\n",
    "    \n",
    "    start_time = time.time()\n",
    "    \n",
    "    for sample in samples:\n",
    "        print(sample)\n",
    "        client.search_for_studies(search_filters={'PatientID': str(sample)})\n",
    "    \n",
    "    search_time = (time.time() - start_time) / sample_size\n",
    "    \n",
    "    print(\"Patient UDI: \" + str(patient_UID) + \"; average search time: \" + str(search_time) )\n",
    "    return search_time\n",
    "\n",
    "get_average_read_time(100000)"
   ]
  },
  {
   "cell_type": "markdown",
   "metadata": {},
   "source": [
    "Przygotowanie pliku z logami:"
   ]
  },
  {
   "cell_type": "code",
   "execution_count": 3,
   "metadata": {},
   "outputs": [
    {
     "name": "stdout",
     "output_type": "stream",
     "text": [
      "logs path: log/uploading_dicom_to_pacs_logs-20220524-225458.csv\n"
     ]
    }
   ],
   "source": [
    "path = \"log/uploading_dicom_to_pacs_logs-\" + str(time.strftime(\"%Y%m%d-%H%M%S\")) + \".csv\"\n",
    "print(\"logs path: \" + path)\n",
    "header = ['timestamp', 'number_of_images', 'last_1k_dicoms_uploadtime', 'experiment_time', 'pacs_read_time']\n",
    "\n",
    "with open(path, 'w', encoding='UTF8', newline='') as f:\n",
    "    writer = csv.writer(f)\n",
    "    writer.writerow(header)"
   ]
  },
  {
   "cell_type": "markdown",
   "metadata": {},
   "source": [
    "Funkcja wgrywania paczki dicomów do pacsa:"
   ]
  },
  {
   "cell_type": "code",
   "execution_count": 4,
   "metadata": {},
   "outputs": [],
   "source": [
    "def upload_1k_dicoms_into_pacs(images_prefix):\n",
    "    start_time = time.time()\n",
    "    \n",
    "    for i in range(1000):\n",
    "        uid = str(images_prefix) + str(i)\n",
    "        \n",
    "        dicom.SeriesInstanceUID = uid\n",
    "        dicom.StudyInstanceUID = uid\n",
    "        dicom.FrameOfReferenceUID = uid\n",
    "        dicom.SOPInstanceUID = uid\n",
    "        dicom.PatientID = uid\n",
    "        client.store_instances(datasets=[dicom])\n",
    "    \n",
    "    return( time.time() - start_time )   "
   ]
  },
  {
   "cell_type": "markdown",
   "metadata": {},
   "source": [
    "### Zapełnianie bazy dicomami:"
   ]
  },
  {
   "cell_type": "markdown",
   "metadata": {},
   "source": [
    "Przygotowanie dicoma:"
   ]
  },
  {
   "cell_type": "code",
   "execution_count": 5,
   "metadata": {},
   "outputs": [],
   "source": [
    "dicom = pydicom.dcmread('test_images/IM-0014-0001.dcm')\n",
    "dicom.PixelData = bytes()"
   ]
  },
  {
   "cell_type": "markdown",
   "metadata": {},
   "source": [
    "Pętla wgrywania:"
   ]
  },
  {
   "cell_type": "code",
   "execution_count": null,
   "metadata": {},
   "outputs": [
    {
     "name": "stderr",
     "output_type": "stream",
     "text": [
      " 84%|███████████████████████████████████████████████████████████████▋            | 629/750 [9:11:46<1:46:21, 52.74s/it]"
     ]
    }
   ],
   "source": [
    "uid_prefix = dicom.SeriesInstanceUID + '.'\n",
    "\n",
    "experiment_start_time = time.time()\n",
    "\n",
    "for i in tqdm(range(250,1000)):\n",
    "    upload_time = upload_1k_dicoms_into_pacs(uid_prefix + str(i))\n",
    "    \n",
    "#     timestamp = datetime.datetime.now()\n",
    "#     number_of_images = i*1000\n",
    "#     last_1k_dicoms_uploadtime = upload_time\n",
    "#     experiment_time = time.time() - experiment_start_time\n",
    "#     pacs_read_time = get_average_read_time(number_of_images)\n",
    "    \n",
    "#     data = [str(timestamp), str(number_of_images), str(last_1k_dicoms_uploadtime), str(experiment_time), str(pacs_read_time)]\n",
    "    \n",
    "#     with open(path, 'a', encoding='UTF8', newline='') as f:\n",
    "#         csv.writer(f).writerow(data)\n",
    "    "
   ]
  }
 ],
 "metadata": {
  "kernelspec": {
   "display_name": "Python 3",
   "language": "python",
   "name": "python3"
  },
  "language_info": {
   "codemirror_mode": {
    "name": "ipython",
    "version": 3
   },
   "file_extension": ".py",
   "mimetype": "text/x-python",
   "name": "python",
   "nbconvert_exporter": "python",
   "pygments_lexer": "ipython3",
   "version": "3.8.5"
  }
 },
 "nbformat": 4,
 "nbformat_minor": 4
}

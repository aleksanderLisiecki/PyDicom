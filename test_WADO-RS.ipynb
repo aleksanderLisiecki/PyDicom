{
 "cells": [
  {
   "cell_type": "code",
   "execution_count": 12,
   "metadata": {},
   "outputs": [],
   "source": [
    "# !pip install pydicom\n",
    "# !pip install dicomweb_client\n",
    "# !pip install tqdm"
   ]
  },
  {
   "cell_type": "code",
   "execution_count": 13,
   "metadata": {},
   "outputs": [],
   "source": [
    "from dicomweb_client.api import DICOMwebClient\n",
    "import pydicom\n",
    "import os\n",
    "import time\n",
    "import datetime\n",
    "from tqdm import tqdm\n",
    "import csv\n",
    "import random\n",
    "\n",
    "url = 'http://localhost:8080/dcm4chee-arc/aets/DCM4CHEE/rs'\n",
    "\n",
    "client = DICOMwebClient(url)"
   ]
  },
  {
   "cell_type": "markdown",
   "metadata": {},
   "source": [
    "Funkcja obliczania długości odczytywania plików z bazy:"
   ]
  },
  {
   "cell_type": "code",
   "execution_count": 14,
   "metadata": {},
   "outputs": [],
   "source": [
    "sample_size = 100\n",
    "def get_average_read_time(patient_UID):\n",
    "    # warmup reads (for the first time search time is larger for some reason - idk why)\n",
    "    client.search_for_studies(search_filters={'PatientID': str(patient_UID)})\n",
    "    client.search_for_studies(search_filters={'PatientID': str(patient_UID)})\n",
    "    \n",
    "    samples = []\n",
    "    for i in range(sample_size):\n",
    "        samples.append(random.randint(0, patient_UID))\n",
    "    \n",
    "    start_time = time.time()\n",
    "    \n",
    "    for sample in samples:\n",
    "        print(sample)\n",
    "        client.search_for_studies(search_filters={'PatientID': str(sample)})\n",
    "    \n",
    "    search_time = (time.time() - start_time) / sample_size\n",
    "    \n",
    "    print(\"Patient UDI: \" + str(patient_UID) + \"; average search time: \" + str(search_time) )\n",
    "    return search_time"
   ]
  },
  {
   "cell_type": "markdown",
   "metadata": {},
   "source": [
    "Przygotowanie pliku z logami:"
   ]
  },
  {
   "cell_type": "code",
   "execution_count": 15,
   "metadata": {},
   "outputs": [
    {
     "name": "stdout",
     "output_type": "stream",
     "text": [
      "logs path: log/uploading_dicom_to_pacs_logs-20220510-222552.csv\n"
     ]
    }
   ],
   "source": [
    "path = \"log/uploading_dicom_to_pacs_logs-\" + str(time.strftime(\"%Y%m%d-%H%M%S\")) + \".csv\"\n",
    "print(\"logs path: \" + path)\n",
    "header = ['timestamp', 'number_of_images', 'last_1k_dicoms_uploadtime', 'experiment_time', 'pacs_read_time']\n",
    "\n",
    "with open(path, 'w', encoding='UTF8', newline='') as f:\n",
    "    writer = csv.writer(f)\n",
    "    writer.writerow(header)"
   ]
  },
  {
   "cell_type": "markdown",
   "metadata": {},
   "source": [
    "Funkcja wgrywania paczki dicomów do pacsa:"
   ]
  },
  {
   "cell_type": "code",
   "execution_count": 16,
   "metadata": {},
   "outputs": [],
   "source": [
    "def upload_1k_dicoms_into_pacs(images_prefix):\n",
    "    start_time = time.time()\n",
    "    \n",
    "    for i in range(1000):\n",
    "        uid = str(images_prefix) + str(i)\n",
    "        \n",
    "        dicom.SeriesInstanceUID = uid\n",
    "        dicom.StudyInstanceUID = uid\n",
    "        dicom.FrameOfReferenceUID = uid\n",
    "        dicom.SOPInstanceUID = uid\n",
    "        dicom.PatientID = uid\n",
    "        client.store_instances(datasets=[dicom])\n",
    "    \n",
    "    return( time.time() - start_time )   "
   ]
  },
  {
   "cell_type": "markdown",
   "metadata": {},
   "source": [
    "### Zapełnianie bazy dicomami bez obrazu i o prostym UID:"
   ]
  },
  {
   "cell_type": "markdown",
   "metadata": {},
   "source": [
    "Przygotowanie dicoma:"
   ]
  },
  {
   "cell_type": "code",
   "execution_count": 17,
   "metadata": {},
   "outputs": [],
   "source": [
    "dicom = pydicom.dcmread('test_images/IM-0014-0001.dcm')\n",
    "dicom.PixelData = bytes()"
   ]
  },
  {
   "cell_type": "markdown",
   "metadata": {},
   "source": [
    "Pętla wgrywania:"
   ]
  },
  {
   "cell_type": "code",
   "execution_count": null,
   "metadata": {},
   "outputs": [
    {
     "name": "stderr",
     "output_type": "stream",
     "text": [
      "\r",
      "  0%|                                                                                          | 0/500 [00:00<?, ?it/s]"
     ]
    }
   ],
   "source": [
    "uid_prefix = dicom.SeriesInstanceUID + '.'\n",
    "\n",
    "experiment_start_time = time.time()\n",
    "\n",
    "for i in tqdm(range(500)):\n",
    "    upload_time = upload_1k_dicoms_into_pacs(uid_prefix + str(i))\n",
    "    \n",
    "    timestamp = datetime.datetime.now()\n",
    "    number_of_images = i*1000\n",
    "    last_1k_dicoms_uploadtime = upload_time\n",
    "    experiment_time = time.time() - experiment_start_time\n",
    "    pacs_read_time = get_average_read_time(number_of_images)\n",
    "    \n",
    "    data = [str(timestamp), str(number_of_images), str(last_1k_dicoms_uploadtime), str(experiment_time), str(pacs_read_time)]\n",
    "    \n",
    "    with open(path, 'a', encoding='UTF8', newline='') as f:\n",
    "        csv.writer(f).writerow(data)\n",
    "    "
   ]
  }
 ],
 "metadata": {
  "kernelspec": {
   "display_name": "Python 3",
   "language": "python",
   "name": "python3"
  },
  "language_info": {
   "codemirror_mode": {
    "name": "ipython",
    "version": 3
   },
   "file_extension": ".py",
   "mimetype": "text/x-python",
   "name": "python",
   "nbconvert_exporter": "python",
   "pygments_lexer": "ipython3",
   "version": "3.8.5"
  }
 },
 "nbformat": 4,
 "nbformat_minor": 4
}
